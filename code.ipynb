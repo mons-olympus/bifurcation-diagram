import numpy as np
import matplotlib.pyplot as plt
from scipy.optimize import fsolve
import sympy as sp

# Define symbolic variables
x, r = sp.symbols('x r')

# Define the function dxdt = f(x, r)
func = r + x**2      # Enter your function here

# Compute its derivative df/dx
dfdx = sp.diff(func, x)

# Convert symbolic function to numerical functions
f_numeric = sp.lambdify((x, r), func, 'numpy')
dfdx_numeric = sp.lambdify((x, r), dfdx, 'numpy')

# Range of r values
r_vals = np.linspace(-4, 4, 800)  # Adjusted range for better bifurcation visibility

x_stable = []
x_unstable = []

# Multiple initial guesses for fsolve to capture multiple roots
initial_guesses = np.linspace(-5, 5, 10)  # Spread out initial guesses

# Iterate over r values
for r_val in r_vals:
    x_roots = set()  # Use a set to store unique roots
    
    # Try multiple initial guesses
    for guess in initial_guesses:
        root = fsolve(lambda x: f_numeric(x, r_val), guess)
        root = np.round(root[0], 6)  # Round to avoid duplicate close values
        
        if -10 < root < 10:  # Avoid extreme numerical issues
            x_roots.add(root)
    
    # Classify stability
    for x_root in x_roots:
        stability = dfdx_numeric(x_root, r_val)
        
        if stability < 0:
            x_stable.append((r_val, x_root))   # Stable fixed point
        else:
            x_unstable.append((r_val, x_root)) # Unstable fixed point

# Convert to NumPy arrays for plotting
x_stable = np.array(x_stable)
x_unstable = np.array(x_unstable)

# Plot the bifurcation diagram
plt.figure(figsize=(8, 6))
if len(x_stable) > 0:
    plt.plot(x_stable[:, 0], x_stable[:, 1], 'bo', markersize=2, label="Stable Fixed Points")  # Blue for stable
if len(x_unstable) > 0:
    plt.plot(x_unstable[:, 0], x_unstable[:, 1], 'ro', markersize=2, label="Unstable Fixed Points")  # Red for unstable

# Aesthetics
plt.axhline(y=0, color='k', linewidth=0.5, linestyle="--")
plt.xlabel("$r$")
plt.ylabel("Fixed Points $x$")
plt.title(r"Bifurcation Diagram")
plt.legend()
plt.grid(True)
#plt.show()
